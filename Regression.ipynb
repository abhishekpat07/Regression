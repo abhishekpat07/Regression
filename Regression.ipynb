{
  "nbformat": 4,
  "nbformat_minor": 0,
  "metadata": {
    "colab": {
      "provenance": []
    },
    "kernelspec": {
      "name": "python3",
      "display_name": "Python 3"
    },
    "language_info": {
      "name": "python"
    }
  },
  "cells": [
    {
      "cell_type": "code",
      "execution_count": null,
      "metadata": {
        "id": "VmbRKkg9mxiQ"
      },
      "outputs": [],
      "source": []
    },
    {
      "cell_type": "markdown",
      "source": [
        "#1. What is Simple Linear Regression?\n",
        "- Simple Linear Regression is used to estimate the relationship between two quantitative varibles."
      ],
      "metadata": {
        "id": "rv8in7lvm1t7"
      }
    },
    {
      "cell_type": "markdown",
      "source": [
        "#2. - What are the key assumptions of Simple Linear Regression?\n",
        "- Key assumptions of SLR are:\n",
        "1. Linerity\n",
        "2. Homoscedasticity\n",
        "3. Multivariate Normality\n",
        "4. Independence\n",
        "5. Lack of Multicollinearity\n",
        "6. Absence of endogeneity"
      ],
      "metadata": {
        "id": "4bxrM0ijnJek"
      }
    },
    {
      "cell_type": "markdown",
      "source": [
        "#3. What does the coefficient m represent in the equation Y=mX+c ?\n",
        "- m -- reperesents the slope of line."
      ],
      "metadata": {
        "id": "mqNLnvRXnsUv"
      }
    },
    {
      "cell_type": "markdown",
      "source": [
        "#4. What does the intercept c represent in the equation Y=mX+c ?\n",
        "- c --  the y-interceot of line."
      ],
      "metadata": {
        "id": "PotL1kecoAK1"
      }
    },
    {
      "cell_type": "markdown",
      "source": [
        "#5. How do we calculate the slope m in Simple Linear Regression?\n",
        "- y = mx + b, then m is the slope and b is the y-intercept."
      ],
      "metadata": {
        "id": "_uDSUUKJoBHu"
      }
    },
    {
      "cell_type": "markdown",
      "source": [
        "#6.  What is the purpose of the least squares method in Simple Linear Regression?\n",
        "- It helps find the best-fit that minimiuzes the sum of squared differences between the observed data points and the predicted values on the regression line."
      ],
      "metadata": {
        "id": "nwQ47hl4m3eZ"
      }
    },
    {
      "cell_type": "markdown",
      "source": [
        "#7. How is the coefficient of determination (R²) interpreted in Simple Linear Regression?\n",
        "- The coefficient of determination (R²) is a number between 0 and 1 that measures how well a statistical model predicts an outcome. You can interpret the R² as the proportion of variation in the dependent variable that is predicted by the statistical model."
      ],
      "metadata": {
        "id": "eTjT1ARopJI4"
      }
    },
    {
      "cell_type": "markdown",
      "source": [
        "8. What is Multiple Linear Regression?\n",
        "- Multiple linear regression is a regression model that estimates the relationship between a quantitve dependent variable and two or more independent variabe using a straight line."
      ],
      "metadata": {
        "id": "JfF7uOOypbpL"
      }
    },
    {
      "cell_type": "markdown",
      "source": [
        "9. What is the main difference between Simple and Multiple Linear Regression?\n",
        "- The main difference between simple linear regression and multiple linear regression is the number of independent variables used in the model."
      ],
      "metadata": {
        "id": "EF_m1aAlp8Sb"
      }
    },
    {
      "cell_type": "markdown",
      "source": [
        "10. What are the key assumptions of Multiple Linear Regression?\n",
        "- Key assumptions of SLR are:\n",
        "1. Linear Realtionship\n",
        "2. Homoscedasticity\n",
        "3. Multivariate Normality\n",
        "4. Variancce Inflation Factor\n",
        "5. No Multicollinearity"
      ],
      "metadata": {
        "id": "Fsws5rkVqHOo"
      }
    },
    {
      "cell_type": "markdown",
      "source": [
        "11. What is heteroscedasticity, and how does it affect the results of a Multiple Linear Regression model?\n",
        "- heteroscedasticity refers to the condition in which the variance of error term or the residual term in a regression model varies."
      ],
      "metadata": {
        "id": "rpz06vvcqoHw"
      }
    },
    {
      "cell_type": "markdown",
      "source": [
        "12. How can you improve a Multiple Linear Regression model with high multicollinearity?\n",
        "- Regularization methods like Ridge or Lasso regression can be used to mitigate multicollinearity by penalizing the coefficients of correlated predictors."
      ],
      "metadata": {
        "id": "90b59QPIrBuw"
      }
    },
    {
      "cell_type": "markdown",
      "source": [
        "13. What are some common techniques for transforming categorical variables for use in regression model?\n",
        "-\n",
        "1. one-hot encoding\n",
        "2. dummy coding\n",
        "3. label encoding"
      ],
      "metadata": {
        "id": "SdrPjMbvrRL1"
      }
    },
    {
      "cell_type": "markdown",
      "source": [
        "14. What is the role of interaction terms in Multiple Linear Regression?\n",
        "-In multiple linear regression, we can use an interaction term when the relationship between two variables is moderated by a third variable."
      ],
      "metadata": {
        "id": "rnzzASqSrfc1"
      }
    },
    {
      "cell_type": "markdown",
      "source": [
        "15.  How can the interpretation of intercept differ between Simple and Multiple Linear Regression?\n",
        "- the intercept is the expected value of the response variable when all predictors equal zero."
      ],
      "metadata": {
        "id": "tq83-64nrul1"
      }
    },
    {
      "cell_type": "markdown",
      "source": [
        "16. What is the significance of the slope in regression analysis, and how does it affect predictions?\n",
        "- In order to find a species-area realtionship. It indicates the direction and magnitude of the relationship between the variables, impacting how accurately the model can predict the dependent variable's value based on the independent variable."
      ],
      "metadata": {
        "id": "C8S-vE3xsFvc"
      }
    },
    {
      "cell_type": "markdown",
      "source": [
        "17.  How does the intercept in a regression model provide context for the relationship between variables?\n",
        "- An intercept represents a baseline or starting point for the dependent variable, if the independent variables are set to zero."
      ],
      "metadata": {
        "id": "UGJKF0ISsasy"
      }
    },
    {
      "cell_type": "markdown",
      "source": [
        "18. What are the limitations of using R² as a sole measure of model performance?\n",
        "-\n",
        "1. R-squred does not measure goodness of fit.\n",
        "2. R-squared does not measure predictive error.\n",
        "3. R-squared does not allow to compare models using transformed responses.\n",
        "4. R-squared does not measure how one variable explains another."
      ],
      "metadata": {
        "id": "3vuG2AeOdtD_"
      }
    },
    {
      "cell_type": "markdown",
      "source": [
        "19. How would you interpret a large standard error for a regression coefficient?\n",
        "- A large standard error for a regression coefficient suggests that the estimated coefficient is less precise and less reliable as an estimate of the true population value."
      ],
      "metadata": {
        "id": "nVLO6e2ieY99"
      }
    },
    {
      "cell_type": "markdown",
      "source": [
        "20.  How can heteroscedasticity be identified in residual plots, and why is it important to address it?\n",
        "- By checking for heteroskedasticity is by plotting a graph of the residuals. Visually, if there appears to be a fan or cone shape in the residual plot, it indicates the presence of heteroskedasticity."
      ],
      "metadata": {
        "id": "XMgF0nF3ej7i"
      }
    },
    {
      "cell_type": "markdown",
      "source": [
        "21. What does it mean if a Multiple Linear Regression model has a high R² but low adjusted R²?\n",
        "- R-Squared is a statistical measure in a regression model that determines the proportion of variance in the dependent variable that can be explained by the independent variable."
      ],
      "metadata": {
        "id": "7kOPUqWLfFpj"
      }
    },
    {
      "cell_type": "markdown",
      "source": [
        "22. Why is it important to scale variables in Multiple Linear Regression?\n",
        "- Because it ensures all features are on standard scale avoiding bias and promoting faster convergence of gradient."
      ],
      "metadata": {
        "id": "D09dQ0FRffeu"
      }
    },
    {
      "cell_type": "markdown",
      "source": [
        "23.  What is polynomial regression?\n",
        "- Polynomial Regression is form of linear regression in which the relationship between the independent variable x and dependent variable y is modelled as an nth-degree polynomial."
      ],
      "metadata": {
        "id": "4g_fSJEBf4o9"
      }
    },
    {
      "cell_type": "markdown",
      "source": [
        "24.  How does polynomial regression differ from linear regression?\n",
        "-  Linear regression fits a straight line to the data, while polynomial regression fits a curve, allowing for more complex, non-linear relationships."
      ],
      "metadata": {
        "id": "LBek4d31gbiv"
      }
    },
    {
      "cell_type": "markdown",
      "source": [
        "25. When is polynomial regression used?\n",
        "- Polynomial regression is used when the relationship between variables is non-linear and can be modeled by a polynomial function, such as a quadratic, cubic, or higher-degree curve."
      ],
      "metadata": {
        "id": "xdiImIvTgrpM"
      }
    },
    {
      "cell_type": "markdown",
      "source": [
        "26. What is the general equation for polynomial regression?\n",
        "- The general form of a polynomial regression equation of degree n is:\n",
        "\n",
        "y\n",
        "=\n",
        "β\n",
        "0\n",
        "+\n",
        "β\n",
        "1\n",
        "x\n",
        "+\n",
        "β\n",
        "2\n",
        "x\n",
        "2\n",
        "+\n",
        "…\n",
        "+\n",
        "β\n",
        "n\n",
        "x\n",
        "n\n",
        "+\n",
        "ϵ\n",
        "y=β\n",
        "0\n",
        "​\n",
        " +β\n",
        "1\n",
        "​\n",
        " x+β\n",
        "2\n",
        "​\n",
        " x\n",
        "2\n",
        " +…+β\n",
        "n\n",
        "​\n",
        " x\n",
        "n\n",
        " +ϵ\n",
        "\n",
        "where,\n",
        "\n",
        "1. y is the dependent variable.\n",
        "2. x is the independent variable.\n",
        "3. β\n",
        "0\n",
        ",\n",
        "β\n",
        "1\n",
        ",\n",
        "…\n",
        ",\n",
        "β\n",
        "n\n",
        "β\n",
        "0\n",
        "​\n",
        " ,β\n",
        "1\n",
        "​\n",
        " ,…,β\n",
        "​\n",
        " ​ are the coefficients of the polynomial terms.\n",
        "4. n is the degree of the polynomial.\n",
        "5. ϵ represents the error term."
      ],
      "metadata": {
        "id": "h2knsgjsg6tT"
      }
    },
    {
      "cell_type": "markdown",
      "source": [
        "27. Can polynomial regression be applied to multiple variables?\n",
        "- Yes, polynomial regression can be applied to multiple variables."
      ],
      "metadata": {
        "id": "m7WGpjcthlEG"
      }
    },
    {
      "cell_type": "markdown",
      "source": [
        "28.  What are the limitations of polynomial regression?\n",
        "- Limited control over data processing and potential security concerns with data privacy."
      ],
      "metadata": {
        "id": "Td9a-IR3hqMG"
      }
    },
    {
      "cell_type": "markdown",
      "source": [
        "29. What methods can be used to evaluate model fit when selecting the degree of a polynomial?\n",
        "- Visual inspection, cross-validation, R-squared, information criteria like AIC and BIC and residual analysis."
      ],
      "metadata": {
        "id": "btfEqcmUh8Mo"
      }
    },
    {
      "cell_type": "markdown",
      "source": [
        "30. Why is visualization important in polynomial regression?\n",
        "- Visulaization is vital in poltnomial regression for understanding and interperting the model's fit to the data."
      ],
      "metadata": {
        "id": "yskFw1PviRAu"
      }
    },
    {
      "cell_type": "markdown",
      "source": [
        "31. How is polynomial regression implemented in Python?\n",
        "-\n",
        "Implement Polynomial Regression in Python\n",
        "1. Import the required python packages.\n",
        "2. Load the dataset.\n",
        "3. Data analysis.\n",
        "4. Split the dataset into dependent/independent variables.\n",
        "5.  Train the regression model.\n",
        "6. Predict the result."
      ],
      "metadata": {
        "id": "WLVdJzddio4g"
      }
    }
  ]
}